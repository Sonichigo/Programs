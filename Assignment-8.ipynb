{
 "cells": [
  {
   "cell_type": "code",
   "execution_count": 1,
   "id": "afc6ca90",
   "metadata": {},
   "outputs": [
    {
     "name": "stdout",
     "output_type": "stream",
     "text": [
      "Normal Data\n",
      "     Unnamed: 0      crim    zn     indus  chas       nox        rm       age  \\\n",
      "0      0.000000  0.000000  0.18  0.067815   0.0  0.314815  0.577505  0.641607   \n",
      "1      0.001980  0.000236  0.00  0.242302   0.0  0.172840  0.547998  0.782698   \n",
      "2      0.003960  0.000236  0.00  0.242302   0.0  0.172840  0.694386  0.599382   \n",
      "3      0.005941  0.000293  0.00  0.063050   0.0  0.150206  0.658555  0.441813   \n",
      "4      0.007921  0.000705  0.00  0.063050   0.0  0.150206  0.687105  0.528321   \n",
      "..          ...       ...   ...       ...   ...       ...       ...       ...   \n",
      "501    0.992079  0.000633  0.00  0.420455   0.0  0.386831  0.580954  0.681771   \n",
      "502    0.994059  0.000438  0.00  0.420455   0.0  0.386831  0.490324  0.760041   \n",
      "503    0.996040  0.000612  0.00  0.420455   0.0  0.386831  0.654340  0.907312   \n",
      "504    0.998020  0.001161  0.00  0.420455   0.0  0.386831  0.619467  0.889804   \n",
      "505    1.000000  0.000462  0.00  0.420455   0.0  0.386831  0.473079  0.802266   \n",
      "\n",
      "          dis       rad       tax   ptratio     black     lstat      medv  \n",
      "0    0.269203  0.000000  0.208015  0.287234  1.000000  0.089680  0.422222  \n",
      "1    0.348962  0.043478  0.104962  0.553191  1.000000  0.204470  0.368889  \n",
      "2    0.348962  0.043478  0.104962  0.553191  0.989737  0.063466  0.660000  \n",
      "3    0.448545  0.086957  0.066794  0.648936  0.994276  0.033389  0.631111  \n",
      "4    0.448545  0.086957  0.066794  0.648936  1.000000  0.099338  0.693333  \n",
      "..        ...       ...       ...       ...       ...       ...       ...  \n",
      "501  0.122671  0.000000  0.164122  0.893617  0.987619  0.219095  0.386667  \n",
      "502  0.105293  0.000000  0.164122  0.893617  1.000000  0.202815  0.346667  \n",
      "503  0.094381  0.000000  0.164122  0.893617  1.000000  0.107892  0.420000  \n",
      "504  0.114514  0.000000  0.164122  0.893617  0.991301  0.131071  0.377778  \n",
      "505  0.125072  0.000000  0.164122  0.893617  1.000000  0.169702  0.153333  \n",
      "\n",
      "[506 rows x 15 columns]\n"
     ]
    }
   ],
   "source": [
    "#1928152 Animesh Pathak Assignment-9\n",
    "import numpy as np\n",
    "import matplotlib.pyplot as plt \n",
    "import pandas as pd\n",
    "import seaborn as sns\n",
    "from sklearn.preprocessing import MinMaxScaler\n",
    "from sklearn.model_selection import train_test_split\n",
    "from sklearn.linear_model import Ridge\n",
    "from sklearn.linear_model import Lasso\n",
    "from sklearn.linear_model import LinearRegression\n",
    "from sklearn.metrics import mean_squared_error, r2_score\n",
    "\n",
    "\n",
    "plt.rcParams['figure.figsize'] = (12.0, 9.0)\n",
    "df1 = pd.read_csv('C:\\\\Users\\\\KIIT\\\\Downloads\\\\boston.csv')\n",
    "df1.describe()\n",
    "\n",
    "scaler = MinMaxScaler()\n",
    "df_norm = pd.DataFrame(scaler.fit_transform(df1), columns=df1.columns)\n",
    "print(\"Normal Data\")\n",
    "print(df_norm)"
   ]
  },
  {
   "cell_type": "code",
   "execution_count": 2,
   "id": "1f0cbe06",
   "metadata": {},
   "outputs": [
    {
     "data": {
      "text/plain": [
       "Unnamed: 0    0\n",
       "crim          0\n",
       "zn            0\n",
       "indus         0\n",
       "chas          0\n",
       "nox           0\n",
       "rm            0\n",
       "age           0\n",
       "dis           0\n",
       "rad           0\n",
       "tax           0\n",
       "ptratio       0\n",
       "black         0\n",
       "lstat         0\n",
       "medv          0\n",
       "dtype: int64"
      ]
     },
     "execution_count": 2,
     "metadata": {},
     "output_type": "execute_result"
    }
   ],
   "source": [
    "df_norm.isnull().sum()"
   ]
  },
  {
   "cell_type": "code",
   "execution_count": 3,
   "id": "ddf135ea",
   "metadata": {},
   "outputs": [
    {
     "name": "stdout",
     "output_type": "stream",
     "text": [
      "Ridge\n",
      "RMSE : 4.813222475577848 R2_SCORE:  0.7655800611077145\n",
      "RMSE : 4.822766573476204 R2_SCORE:  0.7646494807966391\n",
      "RMSE : 4.834487786733011 R2_SCORE:  0.7635041025928502\n",
      "RMSE : 4.845698689254111 R2_SCORE:  0.7624059897361289\n",
      "RMSE : 4.8561602154287185 R2_SCORE:  0.76137898445528\n",
      "RMSE : 4.86596195033904 R2_SCORE:  0.7604147409925119\n",
      "RMSE : 4.875220027960356 R2_SCORE:  0.759502194183716\n",
      "RMSE : 4.884030474890619 R2_SCORE:  0.7586321584669024\n",
      "RMSE : 4.892466818914058 R2_SCORE:  0.7577975933229605\n",
      "RMSE : 4.900584803861281 R2_SCORE:  0.756993162020151\n"
     ]
    }
   ],
   "source": [
    "X= pd.DataFrame(np.c_[df1['lstat'],df1['rm'],df1['black'],df1['ptratio'],df1['tax'],df1['rad'],df1['dis'],df1['age']\n",
    "                      ,df1['nox'],df1['chas'],df1['indus'],df1['zn'],df1['crim']],\n",
    "                columns=['lstat','rm','black','crim','zn','indus','chas','nox','age','dis','rad','tax','ptratio'])\n",
    "Y= df1['medv']\n",
    "\n",
    "X_train, X_test, Y_train, Y_test = train_test_split(X, Y, test_size = 0.2, random_state=1)\n",
    "\n",
    "print(\"Ridge\")\n",
    "ridgeE= []\n",
    "for i in range(1,11):\n",
    "    ridgeR = Ridge(alpha=i)\n",
    "    ridgeR.fit(X_train,Y_train)\n",
    "    Y_pred1=ridgeR.predict(X_test)\n",
    "    \n",
    "    rmse1=np.sqrt(mean_squared_error(Y_test,Y_pred1))\n",
    "    ridgeE.append(rmse1)\n",
    "    r2_1=r2_score(Y_test,Y_pred1)\n",
    "    print('RMSE :',rmse1,'R2_SCORE: ',r2_1)\n",
    "#print(Y_pred1)"
   ]
  },
  {
   "cell_type": "code",
   "execution_count": 4,
   "id": "41ce83de",
   "metadata": {},
   "outputs": [
    {
     "name": "stdout",
     "output_type": "stream",
     "text": [
      "[-0.58240763  3.0099428   0.00816315 -0.80782529 -0.0131365   0.27478587\n",
      " -1.23692264 -0.00763829 -2.14589906  1.40080085 -0.05796909  0.06022531\n",
      " -0.10300887]\n"
     ]
    }
   ],
   "source": [
    "print(ridgeR.coef_)"
   ]
  },
  {
   "cell_type": "code",
   "execution_count": 5,
   "id": "d81c04da",
   "metadata": {},
   "outputs": [
    {
     "name": "stdout",
     "output_type": "stream",
     "text": [
      "[0.  0.1 0.2 0.3 0.4 0.5 0.6 0.7 0.8 0.9]\n"
     ]
    },
    {
     "data": {
      "text/plain": [
       "Text(0, 0.5, 'Ridge Error')"
      ]
     },
     "execution_count": 5,
     "metadata": {},
     "output_type": "execute_result"
    },
    {
     "data": {
      "image/png": "[encoded data removed]",
      "text/plain": [
       "<Figure size 864x648 with 1 Axes>"
      ]
     },
     "metadata": {
      "needs_background": "light"
     },
     "output_type": "display_data"
    }
   ],
   "source": [
    "alphas = np.arange(0.0,1.0,0.1)\n",
    "print(alphas)\n",
    "\n",
    "plt.plot(alphas,ridgeE)\n",
    "plt.xlabel('Alpha')\n",
    "plt.ylabel('Ridge Error')"
   ]
  },
  {
   "cell_type": "code",
   "execution_count": 6,
   "id": "43dfc23e",
   "metadata": {},
   "outputs": [
    {
     "name": "stdout",
     "output_type": "stream",
     "text": [
      "Lasso\n",
      "RMSE : 5.964727893384386 R2_SCORE:  0.6399987995786804\n",
      "RMSE : 6.373284185213928 R2_SCORE:  0.5889929752759417\n",
      "RMSE : 6.606903140710906 R2_SCORE:  0.5583089936223181\n",
      "RMSE : 6.761499641032073 R2_SCORE:  0.5373966909082937\n",
      "RMSE : 6.820774365397794 R2_SCORE:  0.5292503101089593\n",
      "RMSE : 6.885644577487563 R2_SCORE:  0.5202534286915281\n",
      "RMSE : 6.9589069099530345 R2_SCORE:  0.5099902401221146\n",
      "RMSE : 7.040300310379162 R2_SCORE:  0.498460611695275\n",
      "RMSE : 7.091537318519337 R2_SCORE:  0.491133967902062\n",
      "RMSE : 7.136512909649587 R2_SCORE:  0.4846588907690613\n"
     ]
    }
   ],
   "source": [
    "print(\"Lasso\")\n",
    "lassoE = []\n",
    "for i in range(1,11):\n",
    "    lasso = Lasso(alpha=i)\n",
    "    lasso.fit(X_train,Y_train)\n",
    "    Y_pred2=lasso.predict(X_test)\n",
    "    rmse2=np.sqrt(mean_squared_error(Y_test,Y_pred2))\n",
    "    lassoE.append(rmse2)\n",
    "    r2_2=r2_score(Y_test,Y_pred2)\n",
    "    print('RMSE :',rmse2,'R2_SCORE: ',r2_2)\n",
    "#print(Y_pred2)"
   ]
  },
  {
   "cell_type": "code",
   "execution_count": 7,
   "id": "1ba614ea",
   "metadata": {},
   "outputs": [
    {
     "name": "stdout",
     "output_type": "stream",
     "text": [
      "[-0.54181089  0.          0.00645012 -0.         -0.00876188  0.\n",
      " -0.          0.         -0.          0.         -0.          0.03615947\n",
      " -0.        ]\n"
     ]
    }
   ],
   "source": [
    "print(lasso.coef_)"
   ]
  },
  {
   "cell_type": "code",
   "execution_count": 8,
   "id": "255fc887",
   "metadata": {},
   "outputs": [
    {
     "name": "stdout",
     "output_type": "stream",
     "text": [
      "[0.  0.1 0.2 0.3 0.4 0.5 0.6 0.7 0.8 0.9]\n"
     ]
    },
    {
     "data": {
      "text/plain": [
       "Text(0, 0.5, 'Lasso Error')"
      ]
     },
     "execution_count": 8,
     "metadata": {},
     "output_type": "execute_result"
    },
    {
     "data": {
      "image/png": "[encoded data removed]",
      "text/plain": [
       "<Figure size 864x648 with 1 Axes>"
      ]
     },
     "metadata": {
      "needs_background": "light"
     },
     "output_type": "display_data"
    }
   ],
   "source": [
    "alphas = np.arange(0.0,1.0,0.1)\n",
    "print(alphas)\n",
    "\n",
    "plt.plot(alphas,ridgeE)\n",
    "plt.xlabel('Alpha')\n",
    "plt.ylabel('Lasso Error')"
   ]
  }
 ],
 "metadata": {
  "kernelspec": {
   "display_name": "Python 3",
   "language": "python",
   "name": "python3"
  },
  "language_info": {
   "codemirror_mode": {
    "name": "ipython",
    "version": 3
   },
   "file_extension": ".py",
   "mimetype": "text/x-python",
   "name": "python",
   "nbconvert_exporter": "python",
   "pygments_lexer": "ipython3",
   "version": "3.8.8"
  }
 },
 "nbformat": 4,
 "nbformat_minor": 5
}
