{
 "cells": [
  {
   "cell_type": "code",
   "execution_count": 1,
   "id": "deed945d",
   "metadata": {},
   "outputs": [
    {
     "name": "stdout",
     "output_type": "stream",
     "text": [
      " Enter the number : 6\n",
      "Multiplication Table of :  6\n",
      "6 x 1 = 6\n",
      "6 x 2 = 12\n",
      "6 x 3 = 18\n",
      "6 x 4 = 24\n",
      "6 x 5 = 30\n",
      "6 x 6 = 36\n",
      "6 x 7 = 42\n",
      "6 x 8 = 48\n",
      "6 x 9 = 54\n",
      "6 x 10 = 60\n"
     ]
    }
   ],
   "source": [
    "#Q.1 Write a program to print table of a number accepted from user.\n",
    "num = int(input(\"Enter the number : \"))\n",
    "print(\"Multiplication Table of : \",num)\n",
    "for i in range(1,11):\n",
    "    print(num,'x',i,'=',num*i)"
   ]
  },
  {
   "cell_type": "code",
   "execution_count": 2,
   "id": "30bcff13",
   "metadata": {},
   "outputs": [
    {
     "name": "stdout",
     "output_type": "stream",
     "text": [
      "Enter the number whose factorial to be found: 5\n",
      "Factorial of 5 is\n"
     ]
    },
    {
     "data": {
      "text/plain": [
       "120"
      ]
     },
     "execution_count": 2,
     "metadata": {},
     "output_type": "execute_result"
    }
   ],
   "source": [
    "#Q.2 Write a program to find the factorial of a number.\n",
    "\n",
    "def fact(n):  \n",
    "    #Returns the Factorial of the number\n",
    "    return 1 if (n==1 or n==0) else n * fact(n - 1);    \n",
    "num = int(input(\"Enter the number whose factorial to be found: \"))\n",
    "print(\"Factorial of\",num,\"is\",)  \n",
    "fact(num)"
   ]
  },
  {
   "cell_type": "code",
   "execution_count": 3,
   "id": "26b9fe81",
   "metadata": {},
   "outputs": [
    {
     "name": "stdout",
     "output_type": "stream",
     "text": [
      "Enter number of rows: 5\n",
      "* * * * *  \n",
      "* * * *  \n",
      "* * *  \n",
      "* *  \n",
      "*  \n",
      " \n"
     ]
    }
   ],
   "source": [
    "#Write program to print the following pattern using for loop.\n",
    "#* * * *\n",
    "#* * *\n",
    "#* *\n",
    "#*\n",
    "rows = int(input(\"Enter number of rows: \"))    \n",
    "for i in range(rows + 1, 0, -1):    \n",
    "    for j in range(0, i - 1):  \n",
    "        print(\"*\", end=' ')  \n",
    "    print(\" \")  "
   ]
  },
  {
   "cell_type": "code",
   "execution_count": 4,
   "id": "c5b1c773",
   "metadata": {},
   "outputs": [
    {
     "name": "stdout",
     "output_type": "stream",
     "text": [
      "1\n",
      "1\n",
      "2\n",
      "3\n",
      "5\n",
      "8\n",
      "13\n",
      "21\n"
     ]
    }
   ],
   "source": [
    "#Q.4 Write a Python program to get the Fibonacci series between 0 to 25.\n",
    "\n",
    "x=0\n",
    "y=1\n",
    "\n",
    "while y<25:\n",
    "    print(y)\n",
    "    x,y = y,x+y"
   ]
  },
  {
   "cell_type": "code",
   "execution_count": 5,
   "id": "16533184",
   "metadata": {},
   "outputs": [
    {
     "name": "stdout",
     "output_type": "stream",
     "text": [
      "Enter the Percentage: 90\n",
      "Your Grade is B\n"
     ]
    }
   ],
   "source": [
    "#Q.5 Write a program to accept percentage from the user and display the grade according to the following criteria:\n",
    "#         Marks                                    Grade\n",
    "#         > 90                                      A\n",
    "#         > 80 and <= 90                          \tB\n",
    "#         >= 60 and <= 80                       \tC\n",
    "#         below 60                                 \tD\n",
    "\n",
    "per=int(input(\"Enter the Percentage: \"))\n",
    "if per>90 and per<=100:\n",
    "    print(\"Your Grade is A\")\n",
    "elif per>80 and per<=90:\n",
    "    print(\"Your Grade is B\")\n",
    "elif per>=60 and per<=80:\n",
    "    print(\"Your Grade is C\")\n",
    "elif per>60:\n",
    "    print(\"Your Grade is D\")\n",
    "else:\n",
    "    print(\"Invalid Input!\")"
   ]
  },
  {
   "cell_type": "code",
   "execution_count": 7,
   "id": "158fcfba",
   "metadata": {},
   "outputs": [
    {
     "name": "stdout",
     "output_type": "stream",
     "text": [
      "Enter number of elements : 5\n",
      "12\n",
      "2\n",
      "3\n",
      "3\n",
      "10\n",
      "Sum of all elements in given list:  30\n"
     ]
    }
   ],
   "source": [
    "#Q.6 Take a list of numbers as an input and write a Python function to sum all the numbers in a list. \n",
    "\n",
    "list = []\n",
    "n = int(input(\"Enter number of elements : \"))\n",
    "for i in range(0, n):\n",
    "    element = int(input())\n",
    " \n",
    "    list.append(element)\n",
    "\n",
    "def sumoflist(list, size):\n",
    "   if (size == 0):\n",
    "     return 0\n",
    "   else:\n",
    "     return list[size - 1] + sumoflist(list, size - 1)\n",
    "    \n",
    "ttl = sumoflist(list, len(list))\n",
    "print(\"Sum of all elements in given list: \", ttl)"
   ]
  },
  {
   "cell_type": "code",
   "execution_count": 8,
   "id": "6f54e952",
   "metadata": {},
   "outputs": [
    {
     "name": "stdout",
     "output_type": "stream",
     "text": [
      "Enter number of elements : 6\n",
      "1\n",
      "1\n",
      "2\n",
      "3\n",
      "3\n",
      "4\n",
      "[1, 2, 3, 4]\n"
     ]
    }
   ],
   "source": [
    "#Q.7 Write a Python function that takes a list and returns a new list with unique elements of the first list.\n",
    "list = []\n",
    "n = int(input(\"Enter number of elements : \"))\n",
    "for i in range(0, n):\n",
    "    element = int(input())\n",
    "    list.append(element)\n",
    "\n",
    "def unique_list(l):\n",
    "  x = []\n",
    "  for a in l:\n",
    "    if a not in x:\n",
    "      x.append(a)\n",
    "  return x\n",
    "print(unique_list(list)) "
   ]
  },
  {
   "cell_type": "code",
   "execution_count": 9,
   "id": "2575900b",
   "metadata": {},
   "outputs": [
    {
     "name": "stdout",
     "output_type": "stream",
     "text": [
      "Enter the No: 6\n",
      "not Prime\n"
     ]
    }
   ],
   "source": [
    "#Q.8 Write a function to check if a number is prime or not.\n",
    "\n",
    "p=int(input(\"Enter the No: \"))\n",
    "\n",
    "def if_prime(n):\n",
    "    if (n==1):\n",
    "        return \"Coprime\"\n",
    "    elif (n==2):\n",
    "        return \"Prime\";\n",
    "    else:\n",
    "        for x in range(2,n):\n",
    "            if(n % x==0):\n",
    "                return \"not Prime\"\n",
    "        return \"Prime\"\n",
    "print(if_prime(p))"
   ]
  },
  {
   "cell_type": "code",
   "execution_count": 10,
   "id": "a3e1c8be",
   "metadata": {},
   "outputs": [
    {
     "name": "stdout",
     "output_type": "stream",
     "text": [
      "[('English', 88), ('Maths', 97), ('Science', 90), ('Social sciences', 82)]\n"
     ]
    }
   ],
   "source": [
    "#Q.9  Write a Python program to sort a list of tuples using Lambda\n",
    "\n",
    "list_subjects=[('English', 88), ('Science', 90), ('Maths', 97), ('Social sciences', 82)]\n",
    "list_subjects.sort(key= lambda x:x[0])\n",
    "print(list_subjects)"
   ]
  },
  {
   "cell_type": "code",
   "execution_count": 2,
   "id": "c4a9cae9",
   "metadata": {},
   "outputs": [
    {
     "name": "stdout",
     "output_type": "stream",
     "text": [
      "Original list of integers:\n",
      "[1, 2, 3, 4, 5, 6, 7, 8, 9, 10]\n",
      "\n",
      "Squaring every number on list:\n",
      "[1, 4, 9, 16, 25, 36, 49, 64, 81, 100]\n",
      "\n",
      "Cubing every number on list:\n",
      "[1, 8, 27, 64, 125, 216, 343, 512, 729, 1000]\n"
     ]
    }
   ],
   "source": [
    "#Q.10 Write a Python program to square and cube every number in a given list of integers using Lambda.\n",
    "\n",
    "integers = []\n",
    "\n",
    "n = int(input(\"Enter number of elements : \"))\n",
    "for i in range(0, n):\n",
    "    element = int(input())\n",
    "    integers.append(element)\n",
    "\n",
    "print(\"Original list of integers:\")\n",
    "print(integers)\n",
    "print(\"\\nSquare every number of the said list:\")\n",
    "square = integrs(map(lambda x: x ** 2, integers))\n",
    "print(square)\n",
    "print(\"\\nCube every number of the said list:\")\n",
    "cube = integers(map(lambda x: x ** 3, integers))\n",
    "print(cube)"
   ]
  }
 ],
 "metadata": {
  "kernelspec": {
   "display_name": "Python 3",
   "language": "python",
   "name": "python3"
  },
  "language_info": {
   "codemirror_mode": {
    "name": "ipython",
    "version": 3
   },
   "file_extension": ".py",
   "mimetype": "text/x-python",
   "name": "python",
   "nbconvert_exporter": "python",
   "pygments_lexer": "ipython3",
   "version": "3.8.8"
  }
 },
 "nbformat": 4,
 "nbformat_minor": 5
}
