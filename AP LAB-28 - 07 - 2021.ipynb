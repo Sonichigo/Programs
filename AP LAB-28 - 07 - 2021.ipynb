{
 "cells": [
  {
   "cell_type": "code",
   "execution_count": 1,
   "id": "5fbf3c4c",
   "metadata": {},
   "outputs": [
    {
     "name": "stdout",
     "output_type": "stream",
     "text": [
      "p\n",
      "4\n",
      "1\n",
      "4\n"
     ]
    }
   ],
   "source": [
    "list1=['p','q','r','s']\n",
    "list2=[1,2,3,4]\n",
    "list3=[12,55,34]\n",
    "print(list1[0])\n",
    "print(max(list2))\n",
    "print(min(list2))\n",
    "print(len(list2))"
   ]
  },
  {
   "cell_type": "code",
   "execution_count": 2,
   "id": "1babeb02",
   "metadata": {},
   "outputs": [
    {
     "name": "stdout",
     "output_type": "stream",
     "text": [
      "Enter the lenght of list 5\n",
      "12\n",
      "43\n",
      "12\n",
      "11\n",
      "6\n",
      "The largest element in the list is \n",
      "43\n"
     ]
    }
   ],
   "source": [
    "#1.Write a Python script to get the largest number from a list.\n",
    "\n",
    "list=[]\n",
    "n=int(input(\"Enter the lenght of list \"))\n",
    "for i in range(n):\n",
    "    ele=int(input())\n",
    "    list.append(ele)\n",
    "print(\"The largest element in the list is \")\n",
    "print(max(list))"
   ]
  },
  {
   "cell_type": "code",
   "execution_count": 3,
   "id": "543a24c4",
   "metadata": {},
   "outputs": [
    {
     "name": "stdout",
     "output_type": "stream",
     "text": [
      "Enter the lenght of list 6\n",
      "12\n",
      "6\n",
      "2\n",
      "86\n",
      "12\n",
      "5\n",
      "123\n"
     ]
    }
   ],
   "source": [
    "#2.Write a Python script to sum all the items in a list.\n",
    "\n",
    "def sum_list(items):\n",
    "    sum_numbers = 0\n",
    "    for x in items:\n",
    "        sum_numbers += x\n",
    "    return sum_numbers\n",
    "\n",
    "list=[]\n",
    "n=int(input(\"Enter the lenght of list \"))\n",
    "for i in range(n):\n",
    "    ele=int(input())\n",
    "    list.append(ele)\n",
    "print(sum_list(list))"
   ]
  },
  {
   "cell_type": "code",
   "execution_count": 4,
   "id": "564e8759",
   "metadata": {},
   "outputs": [
    {
     "name": "stdout",
     "output_type": "stream",
     "text": [
      "10\n"
     ]
    }
   ],
   "source": [
    "#3.Write a Python script to find the number of items in the list.\n",
    "\n",
    "\n",
    "list = [1, 3, 7, 8, 7, 5, 4, 6, 8, 5]\n",
    "\n",
    "x = len(list)\n",
    "\n",
    "print(x)"
   ]
  },
  {
   "cell_type": "code",
   "execution_count": 5,
   "id": "1454ca45",
   "metadata": {},
   "outputs": [
    {
     "name": "stdout",
     "output_type": "stream",
     "text": [
      "['p', 'q', 'r', 's', 't', 1, 2, 3, 4, 5]\n"
     ]
    }
   ],
   "source": [
    "#4.Write a Python script to create two lists and join the second list with the first.\n",
    "\n",
    "list1 = [\"p\",\"q\",\"r\",\"s\",\"t\"]\n",
    "list2 = [1, 2, 3, 4, 5]\n",
    "\n",
    "list3 = list1 + list2\n",
    "print(list3)"
   ]
  },
  {
   "cell_type": "code",
   "execution_count": 6,
   "id": "a0c71067",
   "metadata": {},
   "outputs": [
    {
     "name": "stdout",
     "output_type": "stream",
     "text": [
      "Enter the lenght of list 5\n",
      "13\n",
      "57\n",
      "23\n",
      "56\n",
      "3\n",
      "Position of element to be removed 3\n",
      "[13, 57, 23, 3]\n"
     ]
    }
   ],
   "source": [
    "#5. Deleting element in alist\n",
    "\n",
    "list=[]\n",
    "n=int(input(\"Enter the lenght of list \"))\n",
    "for i in range(n):\n",
    "    ele=int(input())\n",
    "    list.append(ele)\n",
    "x=int(input(\"Position of element to be removed \"))\n",
    "y=list.pop(x)\n",
    "print(list)"
   ]
  },
  {
   "cell_type": "code",
   "execution_count": 7,
   "id": "d3247b6e",
   "metadata": {},
   "outputs": [
    {
     "name": "stdout",
     "output_type": "stream",
     "text": [
      "Enter the lenght of list 5\n",
      "12\n",
      "45\n",
      "2\n",
      "76\n",
      "23\n",
      "Number to be added to list 32\n",
      "[12, 45, 2, 76, 23, 32]\n"
     ]
    }
   ],
   "source": [
    "#6. updating an element in a list\n",
    "\n",
    "list=[]\n",
    "n=int(input(\"Enter the lenght of list \"))\n",
    "for i in range(n):\n",
    "    ele=int(input())\n",
    "    list.append(ele)\n",
    "x=int(input(\"Number to be added to list \"))\n",
    "list.append(x)\n",
    "print(list)"
   ]
  },
  {
   "cell_type": "code",
   "execution_count": 8,
   "id": "61738417",
   "metadata": {},
   "outputs": [
    {
     "name": "stdout",
     "output_type": "stream",
     "text": [
      "{'a': 10, 'b': 20, 'c': 30, 'd': 40, 'e': 50, 'f': 60}\n"
     ]
    }
   ],
   "source": [
    "#7.Write a Python script to concatenate two dictionaries to create a new one. \n",
    "\n",
    "dic1={'a':10, 'b':20}\n",
    "dic2={'c':30, 'd':40}\n",
    "dic3={'e':50, 'f':60}\n",
    "dic4 = {}\n",
    "for d in (dic1, dic2, dic3): \n",
    "    dic4.update(d)\n",
    "\n",
    "print(dic4)"
   ]
  },
  {
   "cell_type": "code",
   "execution_count": 9,
   "id": "61381f8b",
   "metadata": {},
   "outputs": [
    {
     "name": "stdout",
     "output_type": "stream",
     "text": [
      "{'a': 1, 'b': 2, 'c': 3, 'd': 4, 'e': 5}\n",
      "{'a': 1, 'b': 2, 'd': 4, 'e': 5}\n"
     ]
    }
   ],
   "source": [
    "#8.Write a Python script to remove a key from a dictionary.\n",
    "\n",
    "Dict1 = {'a':1,'b':2,'c':3,'d':4,'e':5}\n",
    "print(Dict1)\n",
    "if 'c' in Dict1: \n",
    "    del Dict1['c']\n",
    "print(Dict1)"
   ]
  },
  {
   "cell_type": "code",
   "execution_count": 10,
   "id": "46367f7d",
   "metadata": {},
   "outputs": [
    {
     "name": "stdout",
     "output_type": "stream",
     "text": [
      "[('a', 1), ('b', 2), ('c', 3), ('d', 4)]\n"
     ]
    }
   ],
   "source": [
    "#9.Write a Python script to sort a dictionary by key.\n",
    "\n",
    "Dict_item = {\"b\": 2, \"c\": 3, \"a\": 1, \"d\":4}\n",
    "\n",
    "Dict_item = Dict_item.items()\n",
    "sorted_items = sorted(Dict_item)\n",
    "\n",
    "print(sorted_items)"
   ]
  },
  {
   "cell_type": "code",
   "execution_count": 12,
   "id": "eff7d98d",
   "metadata": {},
   "outputs": [
    {
     "name": "stdout",
     "output_type": "stream",
     "text": [
      "abcde\n"
     ]
    }
   ],
   "source": [
    "#10.Write a Python script to convert a tuple to a string.\n",
    "\n",
    "def convertTuple(tup):\n",
    "    str = ''\n",
    "    for item in tup:\n",
    "        str = str + item\n",
    "    return str\n",
    "\n",
    "tuple = ('a', 'b', 'c', 'd', 'e')\n",
    "str = convertTuple(tuple)\n",
    "print(str)"
   ]
  },
  {
   "cell_type": "code",
   "execution_count": 1,
   "id": "857c2a6b",
   "metadata": {},
   "outputs": [
    {
     "name": "stdout",
     "output_type": "stream",
     "text": [
      "[1, 2, 3, 4]\n",
      "(1, 2, 3, 4)\n"
     ]
    }
   ],
   "source": [
    "#11.Write a Python script to convert a list to a tuple.\n",
    "\n",
    "lst=[ 1, 2, 3, 4]\n",
    "print(lst)\n",
    "tpl=tuple(lst)\n",
    "print(tpl)"
   ]
  },
  {
   "cell_type": "code",
   "execution_count": 20,
   "id": "ab92b1e5",
   "metadata": {},
   "outputs": [
    {
     "name": "stdout",
     "output_type": "stream",
     "text": [
      "{1: 'a', 2: 'b'}\n"
     ]
    }
   ],
   "source": [
    "#12.Write a Python script to convert a tuple to dict.\n",
    "\n",
    "a_tuple = ((1, \"a\"), (2, \"b\"))\n",
    "tuple_as_dictionary = dict(a_tuple)\n",
    "print(tuple_as_dictionary)"
   ]
  },
  {
   "cell_type": "code",
   "execution_count": 22,
   "id": "03b6a56e",
   "metadata": {},
   "outputs": [
    {
     "name": "stdout",
     "output_type": "stream",
     "text": [
      "('k', 'e', 'e', 'g', 'f', 'd', 'a', 'z')\n"
     ]
    }
   ],
   "source": [
    "#13.Write a Python script to reverse a tuple.\n",
    "\n",
    "def Reverse(tuples):\n",
    "    new_tup = tuples[::-1]\n",
    "    return new_tup\n",
    "\n",
    "tuples = ('z','a','d','f','g','e','e','k')\n",
    "print(Reverse(tuples))"
   ]
  }
 ],
 "metadata": {
  "kernelspec": {
   "display_name": "Python 3",
   "language": "python",
   "name": "python3"
  },
  "language_info": {
   "codemirror_mode": {
    "name": "ipython",
    "version": 3
   },
   "file_extension": ".py",
   "mimetype": "text/x-python",
   "name": "python",
   "nbconvert_exporter": "python",
   "pygments_lexer": "ipython3",
   "version": "3.8.8"
  }
 },
 "nbformat": 4,
 "nbformat_minor": 5
}
