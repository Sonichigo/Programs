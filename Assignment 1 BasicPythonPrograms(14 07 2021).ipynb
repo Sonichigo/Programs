{
 "cells": [
  {
   "cell_type": "code",
   "execution_count": 1,
   "id": "06bfe56c",
   "metadata": {},
   "outputs": [
    {
     "name": "stdout",
     "output_type": "stream",
     "text": [
      "Welcome to Python\n"
     ]
    }
   ],
   "source": [
    "print(\"Welcome to Python\")"
   ]
  },
  {
   "cell_type": "code",
   "execution_count": 2,
   "id": "148680e9",
   "metadata": {},
   "outputs": [
    {
     "name": "stdout",
     "output_type": "stream",
     "text": [
      "Circle\n",
      "5\n",
      "Circle area: 49.298\n",
      "Circle Perimeter: 31.400000000000002\n"
     ]
    }
   ],
   "source": [
    "print(\"Circle\")\n",
    "r=int(input())\n",
    "pc=2*3.14*r\n",
    "ac=3.14*3.14*r\n",
    "print(\"Circle area:\",ac)\n",
    "print(\"Circle Perimeter:\",pc)"
   ]
  },
  {
   "cell_type": "code",
   "execution_count": 3,
   "id": "3f4334c4",
   "metadata": {},
   "outputs": [
    {
     "name": "stdout",
     "output_type": "stream",
     "text": [
      "Square\n",
      "6\n",
      "Square area: 36\n",
      "Square Perimeter: 24\n"
     ]
    }
   ],
   "source": [
    "print(\"Square\")\n",
    "r=int(input())\n",
    "ps=4*r\n",
    "as1=r*r\n",
    "print(\"Square area:\",as1)\n",
    "print(\"Square Perimeter:\",ps)"
   ]
  },
  {
   "cell_type": "code",
   "execution_count": 4,
   "id": "00efb68c",
   "metadata": {},
   "outputs": [
    {
     "name": "stdout",
     "output_type": "stream",
     "text": [
      "Rectangle\n",
      "4\n",
      "5\n",
      "Rectangle area: 18\n",
      "Rectangle Perimeter: 20\n"
     ]
    }
   ],
   "source": [
    "print(\"Rectangle\")\n",
    "l=int(input())\n",
    "b=int(input())\n",
    "pr=l*b\n",
    "ar=2*(l+b)\n",
    "print(\"Rectangle area:\",ar)\n",
    "print(\"Rectangle Perimeter:\",pr)"
   ]
  },
  {
   "cell_type": "code",
   "execution_count": 5,
   "id": "7d505393",
   "metadata": {},
   "outputs": [
    {
     "name": "stdout",
     "output_type": "stream",
     "text": [
      "12000\n",
      "4.5\n",
      "2\n",
      "Simple Interest: 1080.0\n"
     ]
    }
   ],
   "source": [
    "p=int(input())\n",
    "r=float(input())\n",
    "t=int(input())\n",
    "si=(p*r*t)/100\n",
    "print(\"Simple Interest:\", si)"
   ]
  },
  {
   "cell_type": "code",
   "execution_count": 6,
   "id": "ea12898e",
   "metadata": {},
   "outputs": [
    {
     "name": "stdout",
     "output_type": "stream",
     "text": [
      "45\n",
      "Farehnite  113.0\n"
     ]
    }
   ],
   "source": [
    "c=float(input())\n",
    "f=(c * 9/5) + 32\n",
    "print(\"Farehnite \",f)"
   ]
  },
  {
   "cell_type": "code",
   "execution_count": 7,
   "id": "e9c2a327",
   "metadata": {},
   "outputs": [
    {
     "name": "stdout",
     "output_type": "stream",
     "text": [
      "12\n",
      "45\n",
      "X: 45 Y: 12\n"
     ]
    }
   ],
   "source": [
    "x=input()\n",
    "y=input()\n",
    "\n",
    "x, y = y, x\n",
    "\n",
    "print(\"X:\",x,\"Y:\",y)"
   ]
  },
  {
   "cell_type": "code",
   "execution_count": 8,
   "id": "f4420c52",
   "metadata": {},
   "outputs": [
    {
     "name": "stdout",
     "output_type": "stream",
     "text": [
      "12345\n",
      "3:25:45\n"
     ]
    }
   ],
   "source": [
    "def convert(seconds):\n",
    "    seconds = seconds % (24 * 3600)\n",
    "    hour = seconds // 3600\n",
    "    seconds %= 3600\n",
    "    minutes = seconds // 60\n",
    "    seconds %= 60\n",
    "      \n",
    "    return \"%d:%02d:%02d\" % (hour, minutes, seconds)\n",
    "      \n",
    "n = int(input())\n",
    "print(convert(n))"
   ]
  },
  {
   "cell_type": "code",
   "execution_count": 9,
   "id": "0ed6d000",
   "metadata": {},
   "outputs": [
    {
     "name": "stdout",
     "output_type": "stream",
     "text": [
      "Enter first side: 12\n",
      "Enter second side: 34\n",
      "Enter third side: 45\n",
      "area:  93.6185745458667\n"
     ]
    }
   ],
   "source": [
    "a = float(input('Enter first side: '))\n",
    "b = float(input('Enter second side: '))\n",
    "c = float(input('Enter third side: '))\n",
    "\n",
    "s = (a + b + c) / 2.\n",
    "area = (s*(s-a)*(s-b)*(s-c)) ** 0.5\n",
    "print(\"area: \",area)"
   ]
  },
  {
   "cell_type": "code",
   "execution_count": 10,
   "id": "23c442b5",
   "metadata": {},
   "outputs": [
    {
     "name": "stdout",
     "output_type": "stream",
     "text": [
      "Enter a number : 12345\n",
      "54321\n"
     ]
    }
   ],
   "source": [
    "n = int(input('Enter a number : '))\n",
    "reversed = int(str(n)[::-1])\n",
    "print(reversed)"
   ]
  },
  {
   "cell_type": "code",
   "execution_count": null,
   "id": "0c0f532c",
   "metadata": {},
   "outputs": [],
   "source": []
  }
 ],
 "metadata": {
  "kernelspec": {
   "display_name": "Python 3",
   "language": "python",
   "name": "python3"
  },
  "language_info": {
   "codemirror_mode": {
    "name": "ipython",
    "version": 3
   },
   "file_extension": ".py",
   "mimetype": "text/x-python",
   "name": "python",
   "nbconvert_exporter": "python",
   "pygments_lexer": "ipython3",
   "version": "3.8.8"
  }
 },
 "nbformat": 4,
 "nbformat_minor": 5
}
